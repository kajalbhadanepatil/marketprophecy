{
  "nbformat": 4,
  "nbformat_minor": 0,
  "metadata": {
    "colab": {
      "name": "kajal.ipynb",
      "provenance": [],
      "collapsed_sections": []
    },
    "kernelspec": {
      "name": "python3",
      "display_name": "Python 3"
    },
    "language_info": {
      "name": "python"
    }
  },
  "cells": [
    {
      "cell_type": "code",
      "execution_count": null,
      "metadata": {
        "id": "MNGsXjHfemdy"
      },
      "outputs": [],
      "source": [
        "# Importing libraries \n",
        "import numpy as np\n",
        "import pandas as pd\n",
        "import matplotlib.pyplot as plt\n",
        "%matplotlib inline \n",
        "\n",
        "from sklearn.preprocessing import MinMaxScaler\n",
        "\n",
        "import tensorflow\n",
        "from keras.layers import LSTM, Dense, Activation, Dropout, Flatten\n",
        "from keras.models import Sequential\n",
        "from tensorflow.keras.optimizers import Adam"
      ]
    },
    {
      "cell_type": "markdown",
      "source": [
        "# Read the data "
      ],
      "metadata": {
        "id": "F0vZc3mhzuMV"
      }
    },
    {
      "cell_type": "code",
      "source": [
        "train = pd.read_csv('https://raw.githubusercontent.com/Fluid-AI/marketprophecy/main/BTC%20USD/BTC-USD%20Training%20Data%20-%201st%20Jan%202016%20to%201st%20Jan%202022.csv')\n",
        "test = pd.read_csv('https://raw.githubusercontent.com/Fluid-AI/marketprophecy/main/BTC%20USD/BTC-USD%20Out%20of%20Time%20Testing%201st%20Jan%202022%20to%204th%20Feb%202022.csv')"
      ],
      "metadata": {
        "id": "1s5vhEXhzGO-"
      },
      "execution_count": null,
      "outputs": []
    },
    {
      "cell_type": "code",
      "source": [
        "train.head()"
      ],
      "metadata": {
        "colab": {
          "base_uri": "https://localhost:8080/",
          "height": 206
        },
        "id": "v5RE4Zw8z0jO",
        "outputId": "5c8bf9af-d4ef-4d6f-9b0f-1f47be0b43a3"
      },
      "execution_count": null,
      "outputs": [
        {
          "output_type": "execute_result",
          "data": {
            "text/html": [
              "\n",
              "  <div id=\"df-4d21bfac-37cd-4fea-9f90-7ff3841f6dd3\">\n",
              "    <div class=\"colab-df-container\">\n",
              "      <div>\n",
              "<style scoped>\n",
              "    .dataframe tbody tr th:only-of-type {\n",
              "        vertical-align: middle;\n",
              "    }\n",
              "\n",
              "    .dataframe tbody tr th {\n",
              "        vertical-align: top;\n",
              "    }\n",
              "\n",
              "    .dataframe thead th {\n",
              "        text-align: right;\n",
              "    }\n",
              "</style>\n",
              "<table border=\"1\" class=\"dataframe\">\n",
              "  <thead>\n",
              "    <tr style=\"text-align: right;\">\n",
              "      <th></th>\n",
              "      <th>Date</th>\n",
              "      <th>Open</th>\n",
              "      <th>High</th>\n",
              "      <th>Low</th>\n",
              "      <th>Close</th>\n",
              "      <th>Adj Close</th>\n",
              "      <th>Volume</th>\n",
              "    </tr>\n",
              "  </thead>\n",
              "  <tbody>\n",
              "    <tr>\n",
              "      <th>0</th>\n",
              "      <td>2016-01-01</td>\n",
              "      <td>430.721008</td>\n",
              "      <td>436.246002</td>\n",
              "      <td>427.515015</td>\n",
              "      <td>434.334015</td>\n",
              "      <td>434.334015</td>\n",
              "      <td>36278900</td>\n",
              "    </tr>\n",
              "    <tr>\n",
              "      <th>1</th>\n",
              "      <td>2016-01-02</td>\n",
              "      <td>434.622009</td>\n",
              "      <td>436.062012</td>\n",
              "      <td>431.869995</td>\n",
              "      <td>433.437988</td>\n",
              "      <td>433.437988</td>\n",
              "      <td>30096600</td>\n",
              "    </tr>\n",
              "    <tr>\n",
              "      <th>2</th>\n",
              "      <td>2016-01-03</td>\n",
              "      <td>433.578003</td>\n",
              "      <td>433.743011</td>\n",
              "      <td>424.705994</td>\n",
              "      <td>430.010986</td>\n",
              "      <td>430.010986</td>\n",
              "      <td>39633800</td>\n",
              "    </tr>\n",
              "    <tr>\n",
              "      <th>3</th>\n",
              "      <td>2016-01-04</td>\n",
              "      <td>430.061005</td>\n",
              "      <td>434.516998</td>\n",
              "      <td>429.084015</td>\n",
              "      <td>433.091003</td>\n",
              "      <td>433.091003</td>\n",
              "      <td>38477500</td>\n",
              "    </tr>\n",
              "    <tr>\n",
              "      <th>4</th>\n",
              "      <td>2016-01-05</td>\n",
              "      <td>433.069000</td>\n",
              "      <td>434.182007</td>\n",
              "      <td>429.675995</td>\n",
              "      <td>431.959991</td>\n",
              "      <td>431.959991</td>\n",
              "      <td>34522600</td>\n",
              "    </tr>\n",
              "  </tbody>\n",
              "</table>\n",
              "</div>\n",
              "      <button class=\"colab-df-convert\" onclick=\"convertToInteractive('df-4d21bfac-37cd-4fea-9f90-7ff3841f6dd3')\"\n",
              "              title=\"Convert this dataframe to an interactive table.\"\n",
              "              style=\"display:none;\">\n",
              "        \n",
              "  <svg xmlns=\"http://www.w3.org/2000/svg\" height=\"24px\"viewBox=\"0 0 24 24\"\n",
              "       width=\"24px\">\n",
              "    <path d=\"M0 0h24v24H0V0z\" fill=\"none\"/>\n",
              "    <path d=\"M18.56 5.44l.94 2.06.94-2.06 2.06-.94-2.06-.94-.94-2.06-.94 2.06-2.06.94zm-11 1L8.5 8.5l.94-2.06 2.06-.94-2.06-.94L8.5 2.5l-.94 2.06-2.06.94zm10 10l.94 2.06.94-2.06 2.06-.94-2.06-.94-.94-2.06-.94 2.06-2.06.94z\"/><path d=\"M17.41 7.96l-1.37-1.37c-.4-.4-.92-.59-1.43-.59-.52 0-1.04.2-1.43.59L10.3 9.45l-7.72 7.72c-.78.78-.78 2.05 0 2.83L4 21.41c.39.39.9.59 1.41.59.51 0 1.02-.2 1.41-.59l7.78-7.78 2.81-2.81c.8-.78.8-2.07 0-2.86zM5.41 20L4 18.59l7.72-7.72 1.47 1.35L5.41 20z\"/>\n",
              "  </svg>\n",
              "      </button>\n",
              "      \n",
              "  <style>\n",
              "    .colab-df-container {\n",
              "      display:flex;\n",
              "      flex-wrap:wrap;\n",
              "      gap: 12px;\n",
              "    }\n",
              "\n",
              "    .colab-df-convert {\n",
              "      background-color: #E8F0FE;\n",
              "      border: none;\n",
              "      border-radius: 50%;\n",
              "      cursor: pointer;\n",
              "      display: none;\n",
              "      fill: #1967D2;\n",
              "      height: 32px;\n",
              "      padding: 0 0 0 0;\n",
              "      width: 32px;\n",
              "    }\n",
              "\n",
              "    .colab-df-convert:hover {\n",
              "      background-color: #E2EBFA;\n",
              "      box-shadow: 0px 1px 2px rgba(60, 64, 67, 0.3), 0px 1px 3px 1px rgba(60, 64, 67, 0.15);\n",
              "      fill: #174EA6;\n",
              "    }\n",
              "\n",
              "    [theme=dark] .colab-df-convert {\n",
              "      background-color: #3B4455;\n",
              "      fill: #D2E3FC;\n",
              "    }\n",
              "\n",
              "    [theme=dark] .colab-df-convert:hover {\n",
              "      background-color: #434B5C;\n",
              "      box-shadow: 0px 1px 3px 1px rgba(0, 0, 0, 0.15);\n",
              "      filter: drop-shadow(0px 1px 2px rgba(0, 0, 0, 0.3));\n",
              "      fill: #FFFFFF;\n",
              "    }\n",
              "  </style>\n",
              "\n",
              "      <script>\n",
              "        const buttonEl =\n",
              "          document.querySelector('#df-4d21bfac-37cd-4fea-9f90-7ff3841f6dd3 button.colab-df-convert');\n",
              "        buttonEl.style.display =\n",
              "          google.colab.kernel.accessAllowed ? 'block' : 'none';\n",
              "\n",
              "        async function convertToInteractive(key) {\n",
              "          const element = document.querySelector('#df-4d21bfac-37cd-4fea-9f90-7ff3841f6dd3');\n",
              "          const dataTable =\n",
              "            await google.colab.kernel.invokeFunction('convertToInteractive',\n",
              "                                                     [key], {});\n",
              "          if (!dataTable) return;\n",
              "\n",
              "          const docLinkHtml = 'Like what you see? Visit the ' +\n",
              "            '<a target=\"_blank\" href=https://colab.research.google.com/notebooks/data_table.ipynb>data table notebook</a>'\n",
              "            + ' to learn more about interactive tables.';\n",
              "          element.innerHTML = '';\n",
              "          dataTable['output_type'] = 'display_data';\n",
              "          await google.colab.output.renderOutput(dataTable, element);\n",
              "          const docLink = document.createElement('div');\n",
              "          docLink.innerHTML = docLinkHtml;\n",
              "          element.appendChild(docLink);\n",
              "        }\n",
              "      </script>\n",
              "    </div>\n",
              "  </div>\n",
              "  "
            ],
            "text/plain": [
              "         Date        Open        High  ...       Close   Adj Close    Volume\n",
              "0  2016-01-01  430.721008  436.246002  ...  434.334015  434.334015  36278900\n",
              "1  2016-01-02  434.622009  436.062012  ...  433.437988  433.437988  30096600\n",
              "2  2016-01-03  433.578003  433.743011  ...  430.010986  430.010986  39633800\n",
              "3  2016-01-04  430.061005  434.516998  ...  433.091003  433.091003  38477500\n",
              "4  2016-01-05  433.069000  434.182007  ...  431.959991  431.959991  34522600\n",
              "\n",
              "[5 rows x 7 columns]"
            ]
          },
          "metadata": {},
          "execution_count": 4
        }
      ]
    },
    {
      "cell_type": "markdown",
      "source": [
        "* We will use the open price for prediction "
      ],
      "metadata": {
        "id": "Rc0XdCCh02GO"
      }
    },
    {
      "cell_type": "code",
      "source": [
        "train_Set = train.iloc[:,1:2].values\n",
        "train_Set"
      ],
      "metadata": {
        "colab": {
          "base_uri": "https://localhost:8080/"
        },
        "id": "sR6pymcj0enE",
        "outputId": "8e127719-b849-4641-90d6-68d0c81309c7"
      },
      "execution_count": null,
      "outputs": [
        {
          "output_type": "execute_result",
          "data": {
            "text/plain": [
              "array([[  430.721008],\n",
              "       [  434.622009],\n",
              "       [  433.578003],\n",
              "       ...,\n",
              "       [46490.605469],\n",
              "       [47169.371094],\n",
              "       [46311.746094]])"
            ]
          },
          "metadata": {},
          "execution_count": 5
        }
      ]
    },
    {
      "cell_type": "markdown",
      "source": [
        "### Scaling the data "
      ],
      "metadata": {
        "id": "-U6TYkN-8bsD"
      }
    },
    {
      "cell_type": "code",
      "source": [
        "minmaxsc = MinMaxScaler()\n",
        "\n",
        "train_Set = minmaxsc.fit_transform(train_Set)"
      ],
      "metadata": {
        "id": "8knvXaYt0yUE"
      },
      "execution_count": null,
      "outputs": []
    },
    {
      "cell_type": "code",
      "source": [
        "len(train_Set)"
      ],
      "metadata": {
        "colab": {
          "base_uri": "https://localhost:8080/"
        },
        "id": "X1vOw-Xm1H0L",
        "outputId": "1bfb92d8-54dc-4ade-fc88-e41826910906"
      },
      "execution_count": null,
      "outputs": [
        {
          "output_type": "execute_result",
          "data": {
            "text/plain": [
              "2193"
            ]
          },
          "metadata": {},
          "execution_count": 7
        }
      ]
    },
    {
      "cell_type": "markdown",
      "source": [
        "### Splitting the train data into x and y "
      ],
      "metadata": {
        "id": "qSGblI2o1YAs"
      }
    },
    {
      "cell_type": "code",
      "source": [
        "x_train = []\n",
        "y_train = []\n",
        "\n",
        "for i in range(120,len(train_Set)):\n",
        "    x_train.append(train_Set[i-120:i,0])\n",
        "    y_train.append(train_Set[i,0])\n",
        "    \n",
        "# Converting into array    \n",
        "x_train = np.array(x_train)\n",
        "y_train = np.array(y_train)"
      ],
      "metadata": {
        "id": "72n3APah1MW6"
      },
      "execution_count": null,
      "outputs": []
    },
    {
      "cell_type": "code",
      "source": [
        "x_train"
      ],
      "metadata": {
        "colab": {
          "base_uri": "https://localhost:8080/"
        },
        "id": "04fjPn1k1owJ",
        "outputId": "b305fb81-89e8-4cfb-dd5c-01203eed4491"
      },
      "execution_count": null,
      "outputs": [
        {
          "output_type": "execute_result",
          "data": {
            "text/plain": [
              "array([[0.00097713, 0.00103519, 0.00101965, ..., 0.00150613, 0.00119023,\n",
              "        0.00125527],\n",
              "       [0.00103519, 0.00101965, 0.0009673 , ..., 0.00119023, 0.00125527,\n",
              "        0.00134115],\n",
              "       [0.00101965, 0.0009673 , 0.00101208, ..., 0.00125527, 0.00134115,\n",
              "        0.00124152],\n",
              "       ...,\n",
              "       [0.69561563, 0.7210392 , 0.72818968, ..., 0.75072993, 0.74890288,\n",
              "        0.70341648],\n",
              "       [0.7210392 , 0.72818968, 0.7389224 , ..., 0.74890288, 0.70341648,\n",
              "        0.68654856],\n",
              "       [0.72818968, 0.7389224 , 0.73785869, ..., 0.70341648, 0.68654856,\n",
              "        0.69665154]])"
            ]
          },
          "metadata": {},
          "execution_count": 9
        }
      ]
    },
    {
      "cell_type": "code",
      "source": [
        "y_train"
      ],
      "metadata": {
        "colab": {
          "base_uri": "https://localhost:8080/"
        },
        "id": "UrQrvaY61s_A",
        "outputId": "5c13e736-4282-40d5-e257-6e64147c672e"
      },
      "execution_count": null,
      "outputs": [
        {
          "output_type": "execute_result",
          "data": {
            "text/plain": [
              "array([0.00134115, 0.00124152, 0.00129285, ..., 0.68654856, 0.69665154,\n",
              "       0.68388635])"
            ]
          },
          "metadata": {},
          "execution_count": 10
        }
      ]
    },
    {
      "cell_type": "code",
      "source": [
        "# Changing the shape of x_train\n",
        "x_train = np.reshape(x_train, (x_train.shape[0], x_train.shape[1], 1))"
      ],
      "metadata": {
        "id": "76PYLCLS1wFe"
      },
      "execution_count": null,
      "outputs": []
    },
    {
      "cell_type": "markdown",
      "source": [
        "### Model building "
      ],
      "metadata": {
        "id": "VQ5ttR5-85yQ"
      }
    },
    {
      "cell_type": "code",
      "source": [
        "model = Sequential()\n",
        "\n",
        "model.add(LSTM(units = 100,return_sequences = True,input_shape = (x_train.shape[1],1)))\n",
        "model.add(Dropout(0.25))\n",
        "\n",
        "model.add(LSTM(units = 100,return_sequences = True))\n",
        "model.add(Dropout(0.25))\n",
        "\n",
        "model.add(LSTM(units = 100,return_sequences = True))\n",
        "model.add(Dropout(0.25))\n",
        "\n",
        "model.add(LSTM(units = 100,return_sequences = True))\n",
        "model.add(Dropout(0.25))\n",
        "\n",
        "model.add(LSTM(units = 100))\n",
        "model.add(Dropout(0.25))\n",
        "\n",
        "model.add(Flatten())\n",
        "model.add(Dense(1))"
      ],
      "metadata": {
        "id": "kZse1SeU16A3"
      },
      "execution_count": null,
      "outputs": []
    },
    {
      "cell_type": "code",
      "source": [
        "# Compiling the model \n",
        "opt = Adam(learning_rate=0.001)\n",
        "model.compile(loss = 'mean_squared_error',optimizer = opt)"
      ],
      "metadata": {
        "id": "MPOjPKMM2FIb"
      },
      "execution_count": null,
      "outputs": []
    },
    {
      "cell_type": "code",
      "source": [
        "# Fitting the train data \n",
        "history = model.fit(x_train,y_train,validation_split=0.2,epochs = 100,batch_size = 32)"
      ],
      "metadata": {
        "id": "LTBGb77a2Mcj",
        "colab": {
          "base_uri": "https://localhost:8080/"
        },
        "outputId": "9cef0b82-690c-4d34-911a-d33e06240b93"
      },
      "execution_count": 15,
      "outputs": [
        {
          "output_type": "stream",
          "name": "stdout",
          "text": [
            "Epoch 1/100\n",
            "52/52 [==============================] - 43s 580ms/step - loss: 9.0931e-04 - val_loss: 0.0182\n",
            "Epoch 2/100\n",
            "52/52 [==============================] - 28s 547ms/step - loss: 3.9954e-04 - val_loss: 0.0318\n",
            "Epoch 3/100\n",
            "52/52 [==============================] - 28s 547ms/step - loss: 4.1395e-04 - val_loss: 0.0552\n",
            "Epoch 4/100\n",
            "52/52 [==============================] - 28s 540ms/step - loss: 2.9092e-04 - val_loss: 0.0492\n",
            "Epoch 5/100\n",
            "52/52 [==============================] - 28s 540ms/step - loss: 3.0750e-04 - val_loss: 0.0579\n",
            "Epoch 6/100\n",
            "52/52 [==============================] - 29s 554ms/step - loss: 2.4568e-04 - val_loss: 0.0280\n",
            "Epoch 7/100\n",
            "52/52 [==============================] - 29s 561ms/step - loss: 2.8847e-04 - val_loss: 0.0393\n",
            "Epoch 8/100\n",
            "52/52 [==============================] - 28s 538ms/step - loss: 2.3081e-04 - val_loss: 0.0099\n",
            "Epoch 9/100\n",
            "52/52 [==============================] - 28s 541ms/step - loss: 2.0955e-04 - val_loss: 0.0312\n",
            "Epoch 10/100\n",
            "52/52 [==============================] - 28s 542ms/step - loss: 2.0894e-04 - val_loss: 0.0233\n",
            "Epoch 11/100\n",
            "52/52 [==============================] - 28s 548ms/step - loss: 1.9021e-04 - val_loss: 0.0239\n",
            "Epoch 12/100\n",
            "52/52 [==============================] - 28s 542ms/step - loss: 1.8109e-04 - val_loss: 0.0230\n",
            "Epoch 13/100\n",
            "52/52 [==============================] - 28s 545ms/step - loss: 1.6918e-04 - val_loss: 0.0234\n",
            "Epoch 14/100\n",
            "52/52 [==============================] - 28s 545ms/step - loss: 1.8295e-04 - val_loss: 0.0233\n",
            "Epoch 15/100\n",
            "52/52 [==============================] - 28s 545ms/step - loss: 1.5813e-04 - val_loss: 0.0122\n",
            "Epoch 16/100\n",
            "52/52 [==============================] - 28s 543ms/step - loss: 1.7796e-04 - val_loss: 0.0056\n",
            "Epoch 17/100\n",
            "52/52 [==============================] - 28s 543ms/step - loss: 1.7518e-04 - val_loss: 0.0142\n",
            "Epoch 18/100\n",
            "52/52 [==============================] - 28s 543ms/step - loss: 1.5418e-04 - val_loss: 0.0315\n",
            "Epoch 19/100\n",
            "52/52 [==============================] - 28s 544ms/step - loss: 1.4064e-04 - val_loss: 0.0095\n",
            "Epoch 20/100\n",
            "52/52 [==============================] - 29s 550ms/step - loss: 1.4768e-04 - val_loss: 0.0101\n",
            "Epoch 21/100\n",
            "52/52 [==============================] - 29s 558ms/step - loss: 1.5179e-04 - val_loss: 0.0108\n",
            "Epoch 22/100\n",
            "52/52 [==============================] - 29s 549ms/step - loss: 1.3924e-04 - val_loss: 0.0102\n",
            "Epoch 23/100\n",
            "52/52 [==============================] - 31s 599ms/step - loss: 1.3373e-04 - val_loss: 0.0143\n",
            "Epoch 24/100\n",
            "52/52 [==============================] - 29s 554ms/step - loss: 1.3972e-04 - val_loss: 0.0114\n",
            "Epoch 25/100\n",
            "52/52 [==============================] - 29s 556ms/step - loss: 1.1851e-04 - val_loss: 0.0115\n",
            "Epoch 26/100\n",
            "52/52 [==============================] - 28s 548ms/step - loss: 1.4521e-04 - val_loss: 0.0114\n",
            "Epoch 27/100\n",
            "52/52 [==============================] - 29s 551ms/step - loss: 1.3353e-04 - val_loss: 0.0058\n",
            "Epoch 28/100\n",
            "52/52 [==============================] - 28s 548ms/step - loss: 1.4555e-04 - val_loss: 0.0173\n",
            "Epoch 29/100\n",
            "52/52 [==============================] - 28s 544ms/step - loss: 1.1711e-04 - val_loss: 0.0169\n",
            "Epoch 30/100\n",
            "52/52 [==============================] - 29s 550ms/step - loss: 1.2428e-04 - val_loss: 0.0094\n",
            "Epoch 31/100\n",
            "52/52 [==============================] - 29s 550ms/step - loss: 1.1767e-04 - val_loss: 0.0079\n",
            "Epoch 32/100\n",
            "52/52 [==============================] - 29s 560ms/step - loss: 1.3144e-04 - val_loss: 0.0154\n",
            "Epoch 33/100\n",
            "52/52 [==============================] - 29s 551ms/step - loss: 1.5033e-04 - val_loss: 0.0039\n",
            "Epoch 34/100\n",
            "52/52 [==============================] - 29s 552ms/step - loss: 1.1485e-04 - val_loss: 0.0063\n",
            "Epoch 35/100\n",
            "52/52 [==============================] - 28s 547ms/step - loss: 1.1250e-04 - val_loss: 0.0056\n",
            "Epoch 36/100\n",
            "52/52 [==============================] - 29s 551ms/step - loss: 9.9334e-05 - val_loss: 0.0054\n",
            "Epoch 37/100\n",
            "52/52 [==============================] - 29s 549ms/step - loss: 1.1377e-04 - val_loss: 0.0073\n",
            "Epoch 38/100\n",
            "52/52 [==============================] - 29s 554ms/step - loss: 1.2045e-04 - val_loss: 0.0109\n",
            "Epoch 39/100\n",
            "52/52 [==============================] - 28s 548ms/step - loss: 1.0614e-04 - val_loss: 0.0075\n",
            "Epoch 40/100\n",
            "52/52 [==============================] - 28s 547ms/step - loss: 1.2306e-04 - val_loss: 0.0083\n",
            "Epoch 41/100\n",
            "52/52 [==============================] - 28s 546ms/step - loss: 1.0357e-04 - val_loss: 0.0138\n",
            "Epoch 42/100\n",
            "52/52 [==============================] - 29s 556ms/step - loss: 1.4060e-04 - val_loss: 0.0069\n",
            "Epoch 43/100\n",
            "52/52 [==============================] - 29s 567ms/step - loss: 9.6647e-05 - val_loss: 0.0080\n",
            "Epoch 44/100\n",
            "52/52 [==============================] - 36s 686ms/step - loss: 1.1718e-04 - val_loss: 0.0046\n",
            "Epoch 45/100\n",
            "52/52 [==============================] - 28s 548ms/step - loss: 9.9175e-05 - val_loss: 0.0047\n",
            "Epoch 46/100\n",
            "52/52 [==============================] - 34s 656ms/step - loss: 1.1382e-04 - val_loss: 0.0084\n",
            "Epoch 47/100\n",
            "52/52 [==============================] - 34s 657ms/step - loss: 1.1137e-04 - val_loss: 0.0036\n",
            "Epoch 48/100\n",
            "52/52 [==============================] - 33s 627ms/step - loss: 1.0139e-04 - val_loss: 0.0085\n",
            "Epoch 49/100\n",
            "52/52 [==============================] - 38s 728ms/step - loss: 1.0510e-04 - val_loss: 0.0117\n",
            "Epoch 50/100\n",
            "52/52 [==============================] - 32s 616ms/step - loss: 8.7195e-05 - val_loss: 0.0062\n",
            "Epoch 51/100\n",
            "52/52 [==============================] - 29s 554ms/step - loss: 8.8427e-05 - val_loss: 0.0062\n",
            "Epoch 52/100\n",
            "52/52 [==============================] - 31s 588ms/step - loss: 1.0581e-04 - val_loss: 0.0109\n",
            "Epoch 53/100\n",
            "52/52 [==============================] - 29s 550ms/step - loss: 9.9755e-05 - val_loss: 0.0064\n",
            "Epoch 54/100\n",
            "52/52 [==============================] - 29s 551ms/step - loss: 1.0502e-04 - val_loss: 0.0076\n",
            "Epoch 55/100\n",
            "52/52 [==============================] - 28s 548ms/step - loss: 9.5332e-05 - val_loss: 0.0070\n",
            "Epoch 56/100\n",
            "52/52 [==============================] - 30s 574ms/step - loss: 8.7441e-05 - val_loss: 0.0103\n",
            "Epoch 57/100\n",
            "52/52 [==============================] - 28s 549ms/step - loss: 8.1777e-05 - val_loss: 0.0012\n",
            "Epoch 58/100\n",
            "52/52 [==============================] - 29s 550ms/step - loss: 8.4921e-05 - val_loss: 0.0088\n",
            "Epoch 59/100\n",
            "52/52 [==============================] - 29s 552ms/step - loss: 9.0772e-05 - val_loss: 0.0028\n",
            "Epoch 60/100\n",
            "52/52 [==============================] - 29s 550ms/step - loss: 1.0145e-04 - val_loss: 0.0021\n",
            "Epoch 61/100\n",
            "52/52 [==============================] - 28s 548ms/step - loss: 8.1754e-05 - val_loss: 0.0082\n",
            "Epoch 62/100\n",
            "52/52 [==============================] - 30s 570ms/step - loss: 8.5285e-05 - val_loss: 0.0079\n",
            "Epoch 63/100\n",
            "52/52 [==============================] - 29s 553ms/step - loss: 8.7931e-05 - val_loss: 0.0056\n",
            "Epoch 64/100\n",
            "52/52 [==============================] - 29s 552ms/step - loss: 7.9791e-05 - val_loss: 0.0044\n",
            "Epoch 65/100\n",
            "52/52 [==============================] - 29s 551ms/step - loss: 9.3949e-05 - val_loss: 0.0079\n",
            "Epoch 66/100\n",
            "52/52 [==============================] - 29s 552ms/step - loss: 9.4587e-05 - val_loss: 0.0064\n",
            "Epoch 67/100\n",
            "52/52 [==============================] - 28s 546ms/step - loss: 7.9434e-05 - val_loss: 0.0127\n",
            "Epoch 68/100\n",
            "52/52 [==============================] - 29s 549ms/step - loss: 8.3809e-05 - val_loss: 0.0045\n",
            "Epoch 69/100\n",
            "52/52 [==============================] - 28s 547ms/step - loss: 8.5594e-05 - val_loss: 0.0032\n",
            "Epoch 70/100\n",
            "52/52 [==============================] - 29s 552ms/step - loss: 9.1556e-05 - val_loss: 0.0093\n",
            "Epoch 71/100\n",
            "52/52 [==============================] - 29s 553ms/step - loss: 8.5667e-05 - val_loss: 0.0021\n",
            "Epoch 72/100\n",
            "52/52 [==============================] - 29s 553ms/step - loss: 8.5362e-05 - val_loss: 0.0046\n",
            "Epoch 73/100\n",
            "52/52 [==============================] - 29s 554ms/step - loss: 8.3682e-05 - val_loss: 0.0068\n",
            "Epoch 74/100\n",
            "52/52 [==============================] - 29s 549ms/step - loss: 8.2710e-05 - val_loss: 0.0040\n",
            "Epoch 75/100\n",
            "52/52 [==============================] - 29s 552ms/step - loss: 7.8280e-05 - val_loss: 0.0076\n",
            "Epoch 76/100\n",
            "52/52 [==============================] - 29s 549ms/step - loss: 7.4670e-05 - val_loss: 0.0116\n",
            "Epoch 77/100\n",
            "52/52 [==============================] - 29s 549ms/step - loss: 9.1823e-05 - val_loss: 9.4216e-04\n",
            "Epoch 78/100\n",
            "52/52 [==============================] - 28s 547ms/step - loss: 9.6981e-05 - val_loss: 0.0077\n",
            "Epoch 79/100\n",
            "52/52 [==============================] - 28s 548ms/step - loss: 8.6644e-05 - val_loss: 0.0095\n",
            "Epoch 80/100\n",
            "52/52 [==============================] - 28s 545ms/step - loss: 8.0890e-05 - val_loss: 0.0035\n",
            "Epoch 81/100\n",
            "52/52 [==============================] - 29s 553ms/step - loss: 7.2589e-05 - val_loss: 0.0033\n",
            "Epoch 82/100\n",
            "52/52 [==============================] - 29s 553ms/step - loss: 8.2567e-05 - val_loss: 0.0024\n",
            "Epoch 83/100\n",
            "52/52 [==============================] - 29s 566ms/step - loss: 8.1992e-05 - val_loss: 8.8836e-04\n",
            "Epoch 84/100\n",
            "52/52 [==============================] - 29s 553ms/step - loss: 7.8774e-05 - val_loss: 0.0067\n",
            "Epoch 85/100\n",
            "52/52 [==============================] - 29s 550ms/step - loss: 8.7953e-05 - val_loss: 0.0058\n",
            "Epoch 86/100\n",
            "52/52 [==============================] - 29s 549ms/step - loss: 9.2523e-05 - val_loss: 0.0049\n",
            "Epoch 87/100\n",
            "52/52 [==============================] - 29s 552ms/step - loss: 9.6041e-05 - val_loss: 0.0042\n",
            "Epoch 88/100\n",
            "52/52 [==============================] - 28s 547ms/step - loss: 8.6040e-05 - val_loss: 0.0065\n",
            "Epoch 89/100\n",
            "52/52 [==============================] - 29s 550ms/step - loss: 7.7388e-05 - val_loss: 0.0065\n",
            "Epoch 90/100\n",
            "52/52 [==============================] - 28s 547ms/step - loss: 7.6954e-05 - val_loss: 0.0033\n",
            "Epoch 91/100\n",
            "52/52 [==============================] - 29s 551ms/step - loss: 7.9139e-05 - val_loss: 0.0036\n",
            "Epoch 92/100\n",
            "52/52 [==============================] - 29s 555ms/step - loss: 8.4123e-05 - val_loss: 0.0032\n",
            "Epoch 93/100\n",
            "52/52 [==============================] - 30s 576ms/step - loss: 6.7403e-05 - val_loss: 0.0063\n",
            "Epoch 94/100\n",
            "52/52 [==============================] - 29s 554ms/step - loss: 8.5073e-05 - val_loss: 0.0021\n",
            "Epoch 95/100\n",
            "52/52 [==============================] - 28s 548ms/step - loss: 8.0654e-05 - val_loss: 0.0066\n",
            "Epoch 96/100\n",
            "52/52 [==============================] - 29s 550ms/step - loss: 8.1824e-05 - val_loss: 0.0124\n",
            "Epoch 97/100\n",
            "52/52 [==============================] - 29s 549ms/step - loss: 8.3509e-05 - val_loss: 0.0151\n",
            "Epoch 98/100\n",
            "52/52 [==============================] - 29s 548ms/step - loss: 7.8088e-05 - val_loss: 0.0060\n",
            "Epoch 99/100\n",
            "52/52 [==============================] - 28s 546ms/step - loss: 7.0860e-05 - val_loss: 0.0083\n",
            "Epoch 100/100\n",
            "52/52 [==============================] - 28s 548ms/step - loss: 6.7416e-05 - val_loss: 0.0025\n"
          ]
        }
      ]
    },
    {
      "cell_type": "code",
      "source": [
        "# Plotting relation of train and validation loss\n",
        "def train_val_loss_plot(model_history):\n",
        "  loss = model_history.history['loss']\n",
        "  val_loss = model_history.history['val_loss']\n",
        "  epochs = range(1, len(loss) + 1)\n",
        "  plt.figure(figsize=(14,8))\n",
        "  plt.plot(epochs, loss, label='Training loss')\n",
        "  plt.plot(epochs, val_loss, label='Validation loss')\n",
        "  plt.title('Training and validation loss')\n",
        "  plt.legend()\n",
        "  plt.show()\n",
        "  return"
      ],
      "metadata": {
        "id": "uv2w4XBK3k4n"
      },
      "execution_count": 16,
      "outputs": []
    },
    {
      "cell_type": "code",
      "source": [
        "# Plot training and validation\n",
        "train_val_loss_plot(history)"
      ],
      "metadata": {
        "colab": {
          "base_uri": "https://localhost:8080/",
          "height": 499
        },
        "id": "_EMbUGTSDYbh",
        "outputId": "eaf7c07b-175b-45d9-a379-8369ce29e3fa"
      },
      "execution_count": 17,
      "outputs": [
        {
          "output_type": "display_data",
          "data": {
            "image/png": "[encoded data removed]",
            "text/plain": [
              "<Figure size 1008x576 with 1 Axes>"
            ]
          },
          "metadata": {
            "needs_background": "light"
          }
        }
      ]
    },
    {
      "cell_type": "markdown",
      "source": [
        "### Predicting the out of time testing data "
      ],
      "metadata": {
        "id": "-iER9gBGDu4n"
      }
    },
    {
      "cell_type": "code",
      "source": [
        "real_stock_price = test.iloc[:,1:2].values"
      ],
      "metadata": {
        "id": "ZUG3uumyDjFL"
      },
      "execution_count": 18,
      "outputs": []
    },
    {
      "cell_type": "code",
      "source": [
        "dataset = pd.concat((train['Open'],test['Open']), axis = 0)\n",
        "inputs = dataset[len(dataset) - len(test) - 120:].values\n",
        "inputs = inputs.reshape(-1,1)\n",
        "inputs = minmaxsc.transform(inputs)\n",
        "\n",
        "x_test = []\n",
        "for i in range(120,155):\n",
        "    x_test.append(inputs[i-120:i,0])\n",
        "x_test = np.array(x_test)\n",
        "x_test = np.reshape(x_test,(x_test.shape[0],x_test.shape[1],1))\n",
        "\n",
        "predict = model.predict(x_test)\n",
        "predict = minmaxsc.inverse_transform(predict)"
      ],
      "metadata": {
        "id": "_IofUSz-D_ZZ"
      },
      "execution_count": 28,
      "outputs": []
    },
    {
      "cell_type": "code",
      "source": [
        "inputs.shape"
      ],
      "metadata": {
        "colab": {
          "base_uri": "https://localhost:8080/"
        },
        "id": "bdHAzWPBEnyG",
        "outputId": "6c871536-3989-4bb7-c094-c73700519ee1"
      },
      "execution_count": 27,
      "outputs": [
        {
          "output_type": "execute_result",
          "data": {
            "text/plain": [
              "(155, 1)"
            ]
          },
          "metadata": {},
          "execution_count": 27
        }
      ]
    },
    {
      "cell_type": "code",
      "source": [
        "plt.plot(real_stock_price, color = 'red', label = 'Real Market Price')\n",
        "plt.plot(predict, color = 'blue', label = 'Predicted Market Price')\n",
        "plt.title(' Market Price Prediction')\n",
        "plt.xlabel('Time')\n",
        "plt.ylabel('Market Price')\n",
        "plt.legend()\n",
        "plt.show()"
      ],
      "metadata": {
        "colab": {
          "base_uri": "https://localhost:8080/",
          "height": 295
        },
        "id": "SQkMvprpEITk",
        "outputId": "bcfd013b-63c8-40f9-bd43-70b01de5d160"
      },
      "execution_count": 29,
      "outputs": [
        {
          "output_type": "display_data",
          "data": {
            "image/png": "[encoded data removed]",
            "text/plain": [
              "<Figure size 432x288 with 1 Axes>"
            ]
          },
          "metadata": {
            "needs_background": "light"
          }
        }
      ]
    },
    {
      "cell_type": "code",
      "source": [
        ""
      ],
      "metadata": {
        "id": "b7Lcyor1EZdP"
      },
      "execution_count": null,
      "outputs": []
    }
  ]
}